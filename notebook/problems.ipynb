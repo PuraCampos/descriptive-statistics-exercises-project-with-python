{
    "cells": [
        {
            "cell_type": "markdown",
            "id": "ac622319",
            "metadata": {},
            "source": [
                "# Descriptive statistics problems"
            ]
        },
        {
            "cell_type": "markdown",
            "id": "5e0ab0d5",
            "metadata": {},
            "source": [
                "### Exercise 1\n",
                "\n",
                "We will use NumPy to obtain information to describe statistically.\n",
                "\n",
                "- Generate an array of 100 elements following a normal distribution.\n",
                "- Generate an array of 100 elements following a chi-square distribution with 3 degrees of freedom.\n",
                "- Calculate the main metrics and statistical measures that best describe the two vectors."
            ]
        },
        {
            "cell_type": "code",
            "execution_count": 5,
            "id": "34720ab6",
            "metadata": {},
            "outputs": [
                {
                    "data": {
                        "text/html": [
                            "<div>\n",
                            "<style scoped>\n",
                            "    .dataframe tbody tr th:only-of-type {\n",
                            "        vertical-align: middle;\n",
                            "    }\n",
                            "\n",
                            "    .dataframe tbody tr th {\n",
                            "        vertical-align: top;\n",
                            "    }\n",
                            "\n",
                            "    .dataframe thead th {\n",
                            "        text-align: right;\n",
                            "    }\n",
                            "</style>\n",
                            "<table border=\"1\" class=\"dataframe\">\n",
                            "  <thead>\n",
                            "    <tr style=\"text-align: right;\">\n",
                            "      <th></th>\n",
                            "      <th>0</th>\n",
                            "    </tr>\n",
                            "  </thead>\n",
                            "  <tbody>\n",
                            "    <tr>\n",
                            "      <th>0</th>\n",
                            "      <td>-1.743748</td>\n",
                            "    </tr>\n",
                            "    <tr>\n",
                            "      <th>1</th>\n",
                            "      <td>-0.355967</td>\n",
                            "    </tr>\n",
                            "    <tr>\n",
                            "      <th>2</th>\n",
                            "      <td>0.172523</td>\n",
                            "    </tr>\n",
                            "    <tr>\n",
                            "      <th>3</th>\n",
                            "      <td>0.476725</td>\n",
                            "    </tr>\n",
                            "    <tr>\n",
                            "      <th>4</th>\n",
                            "      <td>-0.225002</td>\n",
                            "    </tr>\n",
                            "    <tr>\n",
                            "      <th>...</th>\n",
                            "      <td>...</td>\n",
                            "    </tr>\n",
                            "    <tr>\n",
                            "      <th>95</th>\n",
                            "      <td>0.090488</td>\n",
                            "    </tr>\n",
                            "    <tr>\n",
                            "      <th>96</th>\n",
                            "      <td>0.102690</td>\n",
                            "    </tr>\n",
                            "    <tr>\n",
                            "      <th>97</th>\n",
                            "      <td>-0.384291</td>\n",
                            "    </tr>\n",
                            "    <tr>\n",
                            "      <th>98</th>\n",
                            "      <td>-0.156666</td>\n",
                            "    </tr>\n",
                            "    <tr>\n",
                            "      <th>99</th>\n",
                            "      <td>-0.616189</td>\n",
                            "    </tr>\n",
                            "  </tbody>\n",
                            "</table>\n",
                            "<p>100 rows × 1 columns</p>\n",
                            "</div>"
                        ],
                        "text/plain": [
                            "           0\n",
                            "0  -1.743748\n",
                            "1  -0.355967\n",
                            "2   0.172523\n",
                            "3   0.476725\n",
                            "4  -0.225002\n",
                            "..       ...\n",
                            "95  0.090488\n",
                            "96  0.102690\n",
                            "97 -0.384291\n",
                            "98 -0.156666\n",
                            "99 -0.616189\n",
                            "\n",
                            "[100 rows x 1 columns]"
                        ]
                    },
                    "execution_count": 5,
                    "metadata": {},
                    "output_type": "execute_result"
                }
            ],
            "source": [
                "# TODO\n",
                "import numpy as np\n",
                "import pandas as pd\n",
                "from scipy.stats import norm\n",
                "import statistics as stats\n",
                "\n",
                "data=np.random.normal(loc=0,scale=1,size=100)\n",
                "df=pd.DataFrame(data)\n",
                "df"
            ]
        },
        {
            "cell_type": "code",
            "execution_count": 11,
            "id": "a7f2dcf5",
            "metadata": {},
            "outputs": [
                {
                    "data": {
                        "text/plain": [
                            "array([ 1.82194624,  2.72025514,  6.16644082,  0.06700723,  2.03704076,\n",
                            "        0.66626086,  8.71106414,  1.82764627,  0.99945938,  4.36733281,\n",
                            "        3.38403911,  1.01496005,  3.06583493,  4.11939153,  1.70442126,\n",
                            "        8.93920914,  4.57382134,  4.41425708,  1.85224652,  6.70171361,\n",
                            "        1.56270021,  2.90102113,  5.90058283,  2.00568942,  0.10077869,\n",
                            "        7.52956503,  1.37950811,  2.46698614,  1.45658314,  0.24387757,\n",
                            "        3.15746977,  3.32223165, 13.40717127,  5.37014609,  2.25877904,\n",
                            "        0.66804479,  3.67860988,  0.5455808 ,  2.40162688,  1.46630731,\n",
                            "        3.67774883,  6.05877681,  4.67338857,  0.64036035,  0.52013887,\n",
                            "        4.74581053,  2.77147441,  5.07156936,  3.08834137,  2.4431025 ,\n",
                            "        7.19566918,  2.07058305,  9.03199615,  8.46100843,  2.06062114,\n",
                            "        0.51711674,  0.75006543,  2.50223669,  3.62939665,  5.44993658,\n",
                            "        2.42408617,  5.35529498,  5.46860526,  3.16725006,  0.82324873,\n",
                            "        1.37736354,  4.29691203,  4.09611187,  2.5380705 ,  4.30572576,\n",
                            "        2.83559163,  2.40826223,  3.74119141,  3.7068216 ,  1.91561666,\n",
                            "        2.20193828,  2.33565057,  3.77015355,  3.29846815,  3.12389047,\n",
                            "        2.16110639,  0.54014459,  0.68500725,  2.52849717,  1.51924819,\n",
                            "       12.63085752,  1.99827845,  2.41120739, 11.56873916,  8.13398232,\n",
                            "        2.27754437,  0.20029615,  1.80237552,  3.74852708,  1.72163781,\n",
                            "        7.55863268,  0.74743027,  1.96158512,  0.07879516,  1.49679349])"
                        ]
                    },
                    "execution_count": 11,
                    "metadata": {},
                    "output_type": "execute_result"
                }
            ],
            "source": [
                "df_1= np.random.chisquare(df=3, size=100)\n",
                "df_1"
            ]
        },
        {
            "cell_type": "code",
            "execution_count": 7,
            "id": "39ebc83b",
            "metadata": {},
            "outputs": [
                {
                    "data": {
                        "text/html": [
                            "<div>\n",
                            "<style scoped>\n",
                            "    .dataframe tbody tr th:only-of-type {\n",
                            "        vertical-align: middle;\n",
                            "    }\n",
                            "\n",
                            "    .dataframe tbody tr th {\n",
                            "        vertical-align: top;\n",
                            "    }\n",
                            "\n",
                            "    .dataframe thead th {\n",
                            "        text-align: right;\n",
                            "    }\n",
                            "</style>\n",
                            "<table border=\"1\" class=\"dataframe\">\n",
                            "  <thead>\n",
                            "    <tr style=\"text-align: right;\">\n",
                            "      <th></th>\n",
                            "      <th>0</th>\n",
                            "    </tr>\n",
                            "  </thead>\n",
                            "  <tbody>\n",
                            "    <tr>\n",
                            "      <th>count</th>\n",
                            "      <td>100.000000</td>\n",
                            "    </tr>\n",
                            "    <tr>\n",
                            "      <th>mean</th>\n",
                            "      <td>-0.047068</td>\n",
                            "    </tr>\n",
                            "    <tr>\n",
                            "      <th>std</th>\n",
                            "      <td>0.946387</td>\n",
                            "    </tr>\n",
                            "    <tr>\n",
                            "      <th>min</th>\n",
                            "      <td>-2.107270</td>\n",
                            "    </tr>\n",
                            "    <tr>\n",
                            "      <th>25%</th>\n",
                            "      <td>-0.721881</td>\n",
                            "    </tr>\n",
                            "    <tr>\n",
                            "      <th>50%</th>\n",
                            "      <td>-0.004601</td>\n",
                            "    </tr>\n",
                            "    <tr>\n",
                            "      <th>75%</th>\n",
                            "      <td>0.554623</td>\n",
                            "    </tr>\n",
                            "    <tr>\n",
                            "      <th>max</th>\n",
                            "      <td>2.491526</td>\n",
                            "    </tr>\n",
                            "  </tbody>\n",
                            "</table>\n",
                            "</div>"
                        ],
                        "text/plain": [
                            "                0\n",
                            "count  100.000000\n",
                            "mean    -0.047068\n",
                            "std      0.946387\n",
                            "min     -2.107270\n",
                            "25%     -0.721881\n",
                            "50%     -0.004601\n",
                            "75%      0.554623\n",
                            "max      2.491526"
                        ]
                    },
                    "execution_count": 7,
                    "metadata": {},
                    "output_type": "execute_result"
                }
            ],
            "source": [
                "df.describe()"
            ]
        },
        {
            "cell_type": "code",
            "execution_count": 8,
            "id": "9412e87b",
            "metadata": {},
            "outputs": [],
            "source": [
                "# normal_dist = np.random.normal(loc=0, scale=1, size=100)\n",
                "\n",
                "\n",
                "# chi_square_dist = np.random.chisquare(df=3, size=100)\n",
                "\n",
                "\n",
                "# normal_series = pd.Series(normal_dist, name='Normal Distribution')\n",
                "# chi_square_series = pd.Series(chi_square_dist, name='Chi-Square Distribution')\n",
                "\n",
                "\n",
                "# # # Descriptive statistics for Normal Distribution\n",
                "# print(\"Normal Distribution Statistics:\")\n",
                "# print(normal_series.describe())\n",
                "# print(\"\\nChi-Square Distribution Statistics:\")\n",
                "# print(ch\n",
                "# print(chi_square_series.describe())"
            ]
        },
        {
            "cell_type": "markdown",
            "id": "46c70c3d",
            "metadata": {},
            "source": [
                "### Exercise 2\n",
                "\n",
                "Write a Python program to calculate the standard deviation of the following data:\n",
                "\n",
                "```py\n",
                "data = [4, 2, 5, 8, 6]\n",
                "```"
            ]
        },
        {
            "cell_type": "code",
            "execution_count": 9,
            "id": "d590308e",
            "metadata": {},
            "outputs": [
                {
                    "name": "stdout",
                    "output_type": "stream",
                    "text": [
                        "5\n",
                        "2.23606797749979\n"
                    ]
                }
            ],
            "source": [
                "# TODO\n",
                "data = [4, 2, 5, 8, 6]\n",
                "variance = stats.variance(data)\n",
                "std = stats.stdev(data)\n",
                "print(variance)\n",
                "print(std)"
            ]
        }
    ],
    "metadata": {
        "interpreter": {
            "hash": "9248718ffe6ce6938b217e69dbcc175ea21f4c6b28a317e96c05334edae734bb"
        },
        "kernelspec": {
            "display_name": "Python 3.9.12 ('ML-BOOTCAMP')",
            "language": "python",
            "name": "python3"
        },
        "language_info": {
            "codemirror_mode": {
                "name": "ipython",
                "version": 3
            },
            "file_extension": ".py",
            "mimetype": "text/x-python",
            "name": "python",
            "nbconvert_exporter": "python",
            "pygments_lexer": "ipython3",
            "version": "3.11.4"
        }
    },
    "nbformat": 4,
    "nbformat_minor": 5
}
