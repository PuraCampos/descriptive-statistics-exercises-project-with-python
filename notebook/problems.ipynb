{
    "cells": [
        {
            "cell_type": "markdown",
            "id": "ac622319",
            "metadata": {},
            "source": [
                "# Descriptive statistics problems"
            ]
        },
        {
            "cell_type": "markdown",
            "id": "5e0ab0d5",
            "metadata": {},
            "source": [
                "### Exercise 1\n",
                "\n",
                "We will use NumPy to obtain information to describe statistically.\n",
                "\n",
                "- Generate an array of 100 elements following a normal distribution.\n",
                "- Generate an array of 100 elements following a chi-square distribution with 3 degrees of freedom.\n",
                "- Calculate the main metrics and statistical measures that best describe the two vectors."
            ]
        },
        {
            "cell_type": "code",
            "execution_count": 109,
            "id": "34720ab6",
            "metadata": {},
            "outputs": [],
            "source": [
                "# TODO\n",
                "import numpy as np\n",
                "import pandas as pd\n",
                "from scipy.stats import norm\n",
                "import statistics as stats\n",
                "import math\n",
                "\n",
                "data=np.random.normal(loc=0,scale=1,size=100)\n",
                "df=pd.DataFrame(data)\n"
            ]
        },
        {
            "cell_type": "code",
            "execution_count": 110,
            "id": "a7f2dcf5",
            "metadata": {},
            "outputs": [],
            "source": [
                "data_chis=np.random.chisquare(df=3, size=100)\n",
                "df_1=pd.DataFrame(data_chis)\n"
            ]
        },
        {
            "cell_type": "code",
            "execution_count": 111,
            "id": "39ebc83b",
            "metadata": {},
            "outputs": [
                {
                    "name": "stdout",
                    "output_type": "stream",
                    "text": [
                        "                0\n",
                        "count  100.000000\n",
                        "mean    -0.183496\n",
                        "std      1.018415\n",
                        "min     -3.624514\n",
                        "25%     -0.781859\n",
                        "50%     -0.139745\n",
                        "75%      0.590820\n",
                        "max      1.773795\n",
                        "                0\n",
                        "count  100.000000\n",
                        "mean     2.887230\n",
                        "std      2.227787\n",
                        "min      0.178477\n",
                        "25%      1.074383\n",
                        "50%      2.386071\n",
                        "75%      4.140799\n",
                        "max     12.050016\n"
                    ]
                }
            ],
            "source": [
                "print(df.describe())\n",
                "print(df_1.describe())"
            ]
        },
        {
            "cell_type": "markdown",
            "id": "46c70c3d",
            "metadata": {},
            "source": [
                "### Exercise 2\n",
                "\n",
                "Write a Python program to calculate the standard deviation of the following data:\n",
                "\n",
                "```py\n",
                "data = [4, 2, 5, 8, 6]\n",
                "```"
            ]
        },
        {
            "cell_type": "code",
            "execution_count": 121,
            "id": "d590308e",
            "metadata": {},
            "outputs": [
                {
                    "name": "stdout",
                    "output_type": "stream",
                    "text": [
                        "5.0\n",
                        "5\n",
                        "2.23606797749979\n"
                    ]
                }
            ],
            "source": [
                "# TODO\n",
                "data = [4, 2, 5, 8, 6]\n",
                "variance_1 = np.var(data, ddof = 1)\n",
                "variance_2 = stats.variance(data)\n",
                "std = stats.stdev(data)\n",
                "print(variance_1)\n",
                "print(variance_2)\n",
                "print(std)"
            ]
        },
        {
            "cell_type": "code",
            "execution_count": 124,
            "id": "39449d6c",
            "metadata": {},
            "outputs": [
                {
                    "name": "stdout",
                    "output_type": "stream",
                    "text": [
                        "4.0\n"
                    ]
                }
            ],
            "source": [
                "data = [4, 2, 5, 8, 6]\n",
                "def f_varianza(data):\n",
                "    p=sum(data)/len(data)\n",
                "    new_list=[]\n",
                "    for i in data:\n",
                "       new_list += ({i-p})  \n",
                "    a_new_list=np.array(new_list)\n",
                "    v=sum((a_new_list)**2)/len(data)\n",
                "   \n",
                "    print(v)\n",
                "   \n",
                "f_varianza(data)"
            ]
        },
        {
            "cell_type": "code",
            "execution_count": 126,
            "id": "72557da8",
            "metadata": {},
            "outputs": [
                {
                    "name": "stdout",
                    "output_type": "stream",
                    "text": [
                        "2.0\n"
                    ]
                }
            ],
            "source": [
                "data = [4, 2, 5, 8, 6]\n",
                "def f_std(data):\n",
                "    p=sum(data)/len(data)\n",
                "    new_list=[]\n",
                "    for i in data:\n",
                "       new_list += ({i-p})  \n",
                "    a_new_list=np.array(new_list)\n",
                "    v=sum((a_new_list)**2)/len(data)\n",
                "    sv=v**0.5\n",
                "    sv2=math.sqrt(v)\n",
                "    \n",
                "    print(sv2)\n",
                "f_std(data)\n"
            ]
        }
    ],
    "metadata": {
        "interpreter": {
            "hash": "9248718ffe6ce6938b217e69dbcc175ea21f4c6b28a317e96c05334edae734bb"
        },
        "kernelspec": {
            "display_name": "Python 3.9.12 ('ML-BOOTCAMP')",
            "language": "python",
            "name": "python3"
        },
        "language_info": {
            "codemirror_mode": {
                "name": "ipython",
                "version": 3
            },
            "file_extension": ".py",
            "mimetype": "text/x-python",
            "name": "python",
            "nbconvert_exporter": "python",
            "pygments_lexer": "ipython3",
            "version": "3.11.4"
        }
    },
    "nbformat": 4,
    "nbformat_minor": 5
}
